{
 "cells": [
  {
   "cell_type": "code",
   "execution_count": 4,
   "metadata": {},
   "outputs": [],
   "source": [
    "import sys\n",
    "sys.path.append('../')"
   ]
  },
  {
   "cell_type": "code",
   "execution_count": 16,
   "metadata": {},
   "outputs": [],
   "source": [
    "from prefect import Flow\n",
    "from flight_pred.retrieve import get_flights_data, get_airports_data, get_airlines_data, get_fuel_data"
   ]
  },
  {
   "cell_type": "code",
   "execution_count": 17,
   "metadata": {},
   "outputs": [],
   "source": [
    "DB_BATCH_1 = '../data/raw/batch_1.db'\n",
    "DB_BATCH_2 = '../data/raw/batch_2.db'\n",
    "FUEL = '../data/raw/fuel.parquet'"
   ]
  },
  {
   "cell_type": "code",
   "execution_count": 23,
   "metadata": {},
   "outputs": [
    {
     "name": "stdout",
     "output_type": "stream",
     "text": [
      "[2020-01-30 17:45:10,481] INFO - prefect.FlowRunner | Beginning Flow run for 'train'\n",
      "[2020-01-30 17:45:10,484] INFO - prefect.FlowRunner | Starting flow run.\n",
      "[2020-01-30 17:45:10,492] INFO - prefect.TaskRunner | Task 'get_flights_data': Starting task run...\n",
      "[2020-01-30 17:46:10,921] INFO - prefect.TaskRunner | Task 'get_flights_data': finished task run for task with final state: 'Success'\n",
      "[2020-01-30 17:46:10,922] INFO - prefect.FlowRunner | Flow run SUCCESS: all reference tasks succeeded\n"
     ]
    },
    {
     "data": {
      "text/plain": [
       "<Success: \"All reference tasks succeeded.\">"
      ]
     },
     "execution_count": 23,
     "metadata": {},
     "output_type": "execute_result"
    }
   ],
   "source": [
    "with Flow('train') as flow:\n",
    "    flights = get_flights_data(DB_BATCH_1, DB_BATCH_2)\n",
    "flow.run()"
   ]
  },
  {
   "cell_type": "code",
   "execution_count": 21,
   "metadata": {},
   "outputs": [
    {
     "data": {
      "text/plain": [
       "<bound method Task.outputs of <Task: get_flights_data>>"
      ]
     },
     "execution_count": 21,
     "metadata": {},
     "output_type": "execute_result"
    }
   ],
   "source": []
  },
  {
   "cell_type": "code",
   "execution_count": 14,
   "metadata": {
    "scrolled": true
   },
   "outputs": [
    {
     "ename": "AttributeError",
     "evalue": "'FunctionTask' object has no attribute '__wrapped__'",
     "output_type": "error",
     "traceback": [
      "\u001b[0;31m---------------------------------------------------------------------------\u001b[0m",
      "\u001b[0;31mAttributeError\u001b[0m                            Traceback (most recent call last)",
      "\u001b[0;32m<ipython-input-14-22c57583b224>\u001b[0m in \u001b[0;36m<module>\u001b[0;34m\u001b[0m\n\u001b[0;32m----> 1\u001b[0;31m \u001b[0mget_flights_data_new\u001b[0m \u001b[0;34m=\u001b[0m \u001b[0mget_flights_data\u001b[0m\u001b[0;34m.\u001b[0m\u001b[0m__wrapped__\u001b[0m\u001b[0;34m\u001b[0m\u001b[0;34m\u001b[0m\u001b[0m\n\u001b[0m\u001b[1;32m      2\u001b[0m \u001b[0mflights\u001b[0m \u001b[0;34m=\u001b[0m \u001b[0mget_flights_data_new\u001b[0m\u001b[0;34m(\u001b[0m\u001b[0mDB_BATCH_1\u001b[0m\u001b[0;34m,\u001b[0m \u001b[0mDB_BATCH_2\u001b[0m\u001b[0;34m)\u001b[0m\u001b[0;34m\u001b[0m\u001b[0;34m\u001b[0m\u001b[0m\n",
      "\u001b[0;31mAttributeError\u001b[0m: 'FunctionTask' object has no attribute '__wrapped__'"
     ]
    }
   ],
   "source": [
    "get_flights_data_new = get_flights_data.__wrapped__\n",
    "flights = get_flights_data_new(DB_BATCH_1, DB_BATCH_2)"
   ]
  },
  {
   "cell_type": "code",
   "execution_count": null,
   "metadata": {},
   "outputs": [],
   "source": [
    "flights = get_flights_data(DB_BATCH_1, DB_BATCH_2)\n",
    "    airports = get_airports_data(DB_BATCH_2)\n",
    "    airlines = get_airlines_data(DB_BATCH_2)\n",
    "    fuel = get_fuel_data(FUEL)\n",
    "\n",
    "    completed_flights = aggregate_data(flights, airlines, airports, fuel)\n",
    "\n",
    "    flights_with_new_features = prepare_features(completed_flights)\n",
    "\n",
    "    model = train_and_evaluate(flights_with_new_features)"
   ]
  }
 ],
 "metadata": {
  "kernelspec": {
   "display_name": "Python 3",
   "language": "python",
   "name": "python3"
  },
  "language_info": {
   "codemirror_mode": {
    "name": "ipython",
    "version": 3
   },
   "file_extension": ".py",
   "mimetype": "text/x-python",
   "name": "python",
   "nbconvert_exporter": "python",
   "pygments_lexer": "ipython3",
   "version": "3.7.6"
  }
 },
 "nbformat": 4,
 "nbformat_minor": 2
}
