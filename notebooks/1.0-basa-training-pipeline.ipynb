{
 "cells": [
  {
   "cell_type": "code",
   "execution_count": 1,
   "metadata": {},
   "outputs": [],
   "source": [
    "import pandas as pd\n",
    "import sqlite3\n",
    "import numpy as np\n",
    "\n",
    "pd.set_option('display.max_columns', 500)"
   ]
  },
  {
   "cell_type": "markdown",
   "metadata": {},
   "source": [
    "## Get most complete data sources and remove duplicates"
   ]
  },
  {
   "cell_type": "code",
   "execution_count": 2,
   "metadata": {},
   "outputs": [],
   "source": [
    "conn_1 = sqlite3.connect('../data/raw/batch_1.db')\n",
    "conn_2 = sqlite3.connect('../data/raw/batch_2.db')\n",
    "conn_test = sqlite3.connect('../data/raw/test.db')\n",
    "fuel = pd.read_parquet('../data/raw/fuel.parquet')"
   ]
  },
  {
   "cell_type": "code",
   "execution_count": 3,
   "metadata": {},
   "outputs": [],
   "source": [
    "vols_1 = pd.read_sql_query(\"SELECT * FROM vols\", conn_1)\n",
    "vols_2 = pd.read_sql_query(\"SELECT * FROM vols\", conn_2)"
   ]
  },
  {
   "cell_type": "code",
   "execution_count": 4,
   "metadata": {},
   "outputs": [],
   "source": [
    "vols = pd.concat([vols_1, vols_2])"
   ]
  },
  {
   "cell_type": "code",
   "execution_count": 5,
   "metadata": {},
   "outputs": [
    {
     "data": {
      "text/html": [
       "<div>\n",
       "<style scoped>\n",
       "    .dataframe tbody tr th:only-of-type {\n",
       "        vertical-align: middle;\n",
       "    }\n",
       "\n",
       "    .dataframe tbody tr th {\n",
       "        vertical-align: top;\n",
       "    }\n",
       "\n",
       "    .dataframe thead th {\n",
       "        text-align: right;\n",
       "    }\n",
       "</style>\n",
       "<table border=\"1\" class=\"dataframe\">\n",
       "  <thead>\n",
       "    <tr style=\"text-align: right;\">\n",
       "      <th></th>\n",
       "      <th>IDENTIFIANT</th>\n",
       "      <th>VOL</th>\n",
       "      <th>CODE AVION</th>\n",
       "      <th>AEROPORT DEPART</th>\n",
       "      <th>AEROPORT ARRIVEE</th>\n",
       "      <th>DEPART PROGRAMME</th>\n",
       "      <th>HEURE DE DEPART</th>\n",
       "      <th>RETART DE DEPART</th>\n",
       "      <th>TEMPS DE DEPLACEMENT A TERRE AU DECOLLAGE</th>\n",
       "      <th>DECOLLAGE</th>\n",
       "      <th>TEMPS PROGRAMME</th>\n",
       "      <th>TEMPS PASSE</th>\n",
       "      <th>TEMPS DE VOL</th>\n",
       "      <th>DISTANCE</th>\n",
       "      <th>ATTERRISSAGE</th>\n",
       "      <th>TEMPS DE DEPLACEMENT A TERRE A L'ATTERRISSAGE</th>\n",
       "      <th>ARRIVEE PROGRAMMEE</th>\n",
       "      <th>HEURE D'ARRIVEE</th>\n",
       "      <th>RETARD A L'ARRIVEE</th>\n",
       "      <th>DETOURNEMENT</th>\n",
       "      <th>ANNULATION</th>\n",
       "      <th>RAISON D'ANNULATION</th>\n",
       "      <th>RETARD SYSTEM</th>\n",
       "      <th>RETARD SECURITE</th>\n",
       "      <th>RETARD COMPAGNIE</th>\n",
       "      <th>RETARD AVION</th>\n",
       "      <th>RETARD METEO</th>\n",
       "      <th>COMPAGNIE AERIENNE</th>\n",
       "      <th>NOMBRE DE PASSAGERS</th>\n",
       "      <th>DATE</th>\n",
       "      <th>NIVEAU DE SECURITE</th>\n",
       "    </tr>\n",
       "  </thead>\n",
       "  <tbody>\n",
       "    <tr>\n",
       "      <th>0</th>\n",
       "      <td>1259209</td>\n",
       "      <td>4661</td>\n",
       "      <td>a02782cd75</td>\n",
       "      <td>CEB</td>\n",
       "      <td>AAL</td>\n",
       "      <td>1707</td>\n",
       "      <td>1658.0</td>\n",
       "      <td>-9.0</td>\n",
       "      <td>20.0</td>\n",
       "      <td>1718.0</td>\n",
       "      <td>67.0</td>\n",
       "      <td>71.0</td>\n",
       "      <td>45.0</td>\n",
       "      <td>232</td>\n",
       "      <td>1803.0</td>\n",
       "      <td>6.0</td>\n",
       "      <td>1814</td>\n",
       "      <td>1809.0</td>\n",
       "      <td>-5.0</td>\n",
       "      <td>0</td>\n",
       "      <td>0</td>\n",
       "      <td>None</td>\n",
       "      <td>NaN</td>\n",
       "      <td>NaN</td>\n",
       "      <td>NaN</td>\n",
       "      <td>NaN</td>\n",
       "      <td>NaN</td>\n",
       "      <td>MAF</td>\n",
       "      <td>379</td>\n",
       "      <td>15/8/2018</td>\n",
       "      <td>10</td>\n",
       "    </tr>\n",
       "    <tr>\n",
       "      <th>1</th>\n",
       "      <td>4886177</td>\n",
       "      <td>5026</td>\n",
       "      <td>707f6ea54f</td>\n",
       "      <td>GOI</td>\n",
       "      <td>LTK</td>\n",
       "      <td>600</td>\n",
       "      <td>553.0</td>\n",
       "      <td>-7.0</td>\n",
       "      <td>11.0</td>\n",
       "      <td>604.0</td>\n",
       "      <td>130.0</td>\n",
       "      <td>119.0</td>\n",
       "      <td>91.0</td>\n",
       "      <td>738</td>\n",
       "      <td>835.0</td>\n",
       "      <td>17.0</td>\n",
       "      <td>910</td>\n",
       "      <td>852.0</td>\n",
       "      <td>-18.0</td>\n",
       "      <td>0</td>\n",
       "      <td>0</td>\n",
       "      <td>None</td>\n",
       "      <td>NaN</td>\n",
       "      <td>NaN</td>\n",
       "      <td>NaN</td>\n",
       "      <td>NaN</td>\n",
       "      <td>NaN</td>\n",
       "      <td>I6F</td>\n",
       "      <td>9</td>\n",
       "      <td>2/11/2016</td>\n",
       "      <td>10</td>\n",
       "    </tr>\n",
       "    <tr>\n",
       "      <th>2</th>\n",
       "      <td>183332</td>\n",
       "      <td>2021</td>\n",
       "      <td>b116987956</td>\n",
       "      <td>DSS</td>\n",
       "      <td>JNB</td>\n",
       "      <td>1749</td>\n",
       "      <td>1747.0</td>\n",
       "      <td>-2.0</td>\n",
       "      <td>9.0</td>\n",
       "      <td>1756.0</td>\n",
       "      <td>248.0</td>\n",
       "      <td>228.0</td>\n",
       "      <td>215.0</td>\n",
       "      <td>1671</td>\n",
       "      <td>1831.0</td>\n",
       "      <td>4.0</td>\n",
       "      <td>1857</td>\n",
       "      <td>1835.0</td>\n",
       "      <td>-22.0</td>\n",
       "      <td>0</td>\n",
       "      <td>0</td>\n",
       "      <td>None</td>\n",
       "      <td>NaN</td>\n",
       "      <td>NaN</td>\n",
       "      <td>NaN</td>\n",
       "      <td>NaN</td>\n",
       "      <td>NaN</td>\n",
       "      <td>NVPPA</td>\n",
       "      <td>2491</td>\n",
       "      <td>9/6/2017</td>\n",
       "      <td>10</td>\n",
       "    </tr>\n",
       "    <tr>\n",
       "      <th>3</th>\n",
       "      <td>937517</td>\n",
       "      <td>1320</td>\n",
       "      <td>a4b8db63f5</td>\n",
       "      <td>AGP</td>\n",
       "      <td>GOA</td>\n",
       "      <td>2301</td>\n",
       "      <td>2322.0</td>\n",
       "      <td>21.0</td>\n",
       "      <td>19.0</td>\n",
       "      <td>2341.0</td>\n",
       "      <td>65.0</td>\n",
       "      <td>89.0</td>\n",
       "      <td>59.0</td>\n",
       "      <td>214</td>\n",
       "      <td>40.0</td>\n",
       "      <td>11.0</td>\n",
       "      <td>6</td>\n",
       "      <td>51.0</td>\n",
       "      <td>45.0</td>\n",
       "      <td>0</td>\n",
       "      <td>0</td>\n",
       "      <td>None</td>\n",
       "      <td>24.0</td>\n",
       "      <td>0.0</td>\n",
       "      <td>0.0</td>\n",
       "      <td>6.0</td>\n",
       "      <td>15.0</td>\n",
       "      <td>NVPPA</td>\n",
       "      <td>1241</td>\n",
       "      <td>26/5/2018</td>\n",
       "      <td>10</td>\n",
       "    </tr>\n",
       "    <tr>\n",
       "      <th>4</th>\n",
       "      <td>2157498</td>\n",
       "      <td>508</td>\n",
       "      <td>34604053c0</td>\n",
       "      <td>BRU</td>\n",
       "      <td>BOD</td>\n",
       "      <td>612</td>\n",
       "      <td>603.0</td>\n",
       "      <td>-9.0</td>\n",
       "      <td>13.0</td>\n",
       "      <td>616.0</td>\n",
       "      <td>302.0</td>\n",
       "      <td>259.0</td>\n",
       "      <td>238.0</td>\n",
       "      <td>2288</td>\n",
       "      <td>1314.0</td>\n",
       "      <td>8.0</td>\n",
       "      <td>1414</td>\n",
       "      <td>1322.0</td>\n",
       "      <td>-52.0</td>\n",
       "      <td>0</td>\n",
       "      <td>0</td>\n",
       "      <td>None</td>\n",
       "      <td>NaN</td>\n",
       "      <td>NaN</td>\n",
       "      <td>NaN</td>\n",
       "      <td>NaN</td>\n",
       "      <td>NaN</td>\n",
       "      <td>THA</td>\n",
       "      <td>78</td>\n",
       "      <td>10/11/2018</td>\n",
       "      <td>10</td>\n",
       "    </tr>\n",
       "  </tbody>\n",
       "</table>\n",
       "</div>"
      ],
      "text/plain": [
       "   IDENTIFIANT   VOL  CODE AVION AEROPORT DEPART AEROPORT ARRIVEE  \\\n",
       "0      1259209  4661  a02782cd75             CEB              AAL   \n",
       "1      4886177  5026  707f6ea54f             GOI              LTK   \n",
       "2       183332  2021  b116987956             DSS              JNB   \n",
       "3       937517  1320  a4b8db63f5             AGP              GOA   \n",
       "4      2157498   508  34604053c0             BRU              BOD   \n",
       "\n",
       "   DEPART PROGRAMME  HEURE DE DEPART  RETART DE DEPART  \\\n",
       "0              1707           1658.0              -9.0   \n",
       "1               600            553.0              -7.0   \n",
       "2              1749           1747.0              -2.0   \n",
       "3              2301           2322.0              21.0   \n",
       "4               612            603.0              -9.0   \n",
       "\n",
       "   TEMPS DE DEPLACEMENT A TERRE AU DECOLLAGE  DECOLLAGE  TEMPS PROGRAMME  \\\n",
       "0                                       20.0     1718.0             67.0   \n",
       "1                                       11.0      604.0            130.0   \n",
       "2                                        9.0     1756.0            248.0   \n",
       "3                                       19.0     2341.0             65.0   \n",
       "4                                       13.0      616.0            302.0   \n",
       "\n",
       "   TEMPS PASSE  TEMPS DE VOL  DISTANCE  ATTERRISSAGE  \\\n",
       "0         71.0          45.0       232        1803.0   \n",
       "1        119.0          91.0       738         835.0   \n",
       "2        228.0         215.0      1671        1831.0   \n",
       "3         89.0          59.0       214          40.0   \n",
       "4        259.0         238.0      2288        1314.0   \n",
       "\n",
       "   TEMPS DE DEPLACEMENT A TERRE A L'ATTERRISSAGE  ARRIVEE PROGRAMMEE  \\\n",
       "0                                            6.0                1814   \n",
       "1                                           17.0                 910   \n",
       "2                                            4.0                1857   \n",
       "3                                           11.0                   6   \n",
       "4                                            8.0                1414   \n",
       "\n",
       "   HEURE D'ARRIVEE  RETARD A L'ARRIVEE  DETOURNEMENT  ANNULATION  \\\n",
       "0           1809.0                -5.0             0           0   \n",
       "1            852.0               -18.0             0           0   \n",
       "2           1835.0               -22.0             0           0   \n",
       "3             51.0                45.0             0           0   \n",
       "4           1322.0               -52.0             0           0   \n",
       "\n",
       "  RAISON D'ANNULATION  RETARD SYSTEM  RETARD SECURITE  RETARD COMPAGNIE  \\\n",
       "0                None            NaN              NaN               NaN   \n",
       "1                None            NaN              NaN               NaN   \n",
       "2                None            NaN              NaN               NaN   \n",
       "3                None           24.0              0.0               0.0   \n",
       "4                None            NaN              NaN               NaN   \n",
       "\n",
       "   RETARD AVION  RETARD METEO COMPAGNIE AERIENNE  NOMBRE DE PASSAGERS  \\\n",
       "0           NaN           NaN                MAF                  379   \n",
       "1           NaN           NaN                I6F                    9   \n",
       "2           NaN           NaN              NVPPA                 2491   \n",
       "3           6.0          15.0              NVPPA                 1241   \n",
       "4           NaN           NaN                THA                   78   \n",
       "\n",
       "         DATE  NIVEAU DE SECURITE  \n",
       "0   15/8/2018                  10  \n",
       "1   2/11/2016                  10  \n",
       "2    9/6/2017                  10  \n",
       "3   26/5/2018                  10  \n",
       "4  10/11/2018                  10  "
      ]
     },
     "execution_count": 5,
     "metadata": {},
     "output_type": "execute_result"
    }
   ],
   "source": [
    "vols.head()"
   ]
  },
  {
   "cell_type": "code",
   "execution_count": 6,
   "metadata": {},
   "outputs": [],
   "source": [
    "aeroports_2 = pd.read_sql_query(\"SELECT * FROM aeroports\", conn_2)"
   ]
  },
  {
   "cell_type": "code",
   "execution_count": 7,
   "metadata": {},
   "outputs": [],
   "source": [
    "aeroports = aeroports_2.drop_duplicates(subset=['CODE IATA'], keep='last')"
   ]
  },
  {
   "cell_type": "code",
   "execution_count": 8,
   "metadata": {},
   "outputs": [
    {
     "data": {
      "text/html": [
       "<div>\n",
       "<style scoped>\n",
       "    .dataframe tbody tr th:only-of-type {\n",
       "        vertical-align: middle;\n",
       "    }\n",
       "\n",
       "    .dataframe tbody tr th {\n",
       "        vertical-align: top;\n",
       "    }\n",
       "\n",
       "    .dataframe thead th {\n",
       "        text-align: right;\n",
       "    }\n",
       "</style>\n",
       "<table border=\"1\" class=\"dataframe\">\n",
       "  <thead>\n",
       "    <tr style=\"text-align: right;\">\n",
       "      <th></th>\n",
       "      <th>CODE IATA</th>\n",
       "      <th>NOM</th>\n",
       "      <th>LIEU</th>\n",
       "      <th>PAYS</th>\n",
       "      <th>LONGITUDE</th>\n",
       "      <th>LATITUDE</th>\n",
       "      <th>HAUTEUR</th>\n",
       "      <th>PRIX RETARD PREMIERE 20 MINUTES</th>\n",
       "      <th>PRIS RETARD POUR CHAQUE MINUTE APRES 10 MINUTES</th>\n",
       "    </tr>\n",
       "  </thead>\n",
       "  <tbody>\n",
       "    <tr>\n",
       "      <th>0</th>\n",
       "      <td>MCT</td>\n",
       "      <td>Muscat International Airport</td>\n",
       "      <td>Muscat</td>\n",
       "      <td>OM</td>\n",
       "      <td>58.284400939941406</td>\n",
       "      <td>23.593299865722656</td>\n",
       "      <td>48.0</td>\n",
       "      <td>53</td>\n",
       "      <td>3</td>\n",
       "    </tr>\n",
       "    <tr>\n",
       "      <th>1</th>\n",
       "      <td>SOU</td>\n",
       "      <td>Southampton Airport</td>\n",
       "      <td>Southampton</td>\n",
       "      <td>GB</td>\n",
       "      <td>-1.3567999601364136</td>\n",
       "      <td>50.95029830932617</td>\n",
       "      <td>44.0</td>\n",
       "      <td>24</td>\n",
       "      <td>5</td>\n",
       "    </tr>\n",
       "    <tr>\n",
       "      <th>2</th>\n",
       "      <td>PNH</td>\n",
       "      <td>Phnom Penh International Airport</td>\n",
       "      <td>Phnom Penh</td>\n",
       "      <td>KH</td>\n",
       "      <td>104.84400177001953</td>\n",
       "      <td>11.546600341796875</td>\n",
       "      <td>40.0</td>\n",
       "      <td>33</td>\n",
       "      <td>3</td>\n",
       "    </tr>\n",
       "    <tr>\n",
       "      <th>3</th>\n",
       "      <td>BLR</td>\n",
       "      <td>Kempegowda International Airport</td>\n",
       "      <td>Bangalore</td>\n",
       "      <td>IN</td>\n",
       "      <td>77.706299</td>\n",
       "      <td>13.1979</td>\n",
       "      <td>3000.0</td>\n",
       "      <td>70</td>\n",
       "      <td>9</td>\n",
       "    </tr>\n",
       "    <tr>\n",
       "      <th>4</th>\n",
       "      <td>FFD</td>\n",
       "      <td>RAF Fairford</td>\n",
       "      <td>Fairford</td>\n",
       "      <td>GB</td>\n",
       "      <td>-1.7900300025900002</td>\n",
       "      <td>51.6822013855</td>\n",
       "      <td>286.0</td>\n",
       "      <td>65</td>\n",
       "      <td>3</td>\n",
       "    </tr>\n",
       "  </tbody>\n",
       "</table>\n",
       "</div>"
      ],
      "text/plain": [
       "  CODE IATA                               NOM         LIEU PAYS  \\\n",
       "0       MCT      Muscat International Airport       Muscat   OM   \n",
       "1       SOU               Southampton Airport  Southampton   GB   \n",
       "2       PNH  Phnom Penh International Airport   Phnom Penh   KH   \n",
       "3       BLR  Kempegowda International Airport    Bangalore   IN   \n",
       "4       FFD                      RAF Fairford     Fairford   GB   \n",
       "\n",
       "             LONGITUDE             LATITUDE  HAUTEUR  \\\n",
       "0   58.284400939941406   23.593299865722656     48.0   \n",
       "1  -1.3567999601364136    50.95029830932617     44.0   \n",
       "2   104.84400177001953   11.546600341796875     40.0   \n",
       "3            77.706299              13.1979   3000.0   \n",
       "4  -1.7900300025900002        51.6822013855    286.0   \n",
       "\n",
       "   PRIX RETARD PREMIERE 20 MINUTES  \\\n",
       "0                               53   \n",
       "1                               24   \n",
       "2                               33   \n",
       "3                               70   \n",
       "4                               65   \n",
       "\n",
       "   PRIS RETARD POUR CHAQUE MINUTE APRES 10 MINUTES  \n",
       "0                                                3  \n",
       "1                                                5  \n",
       "2                                                3  \n",
       "3                                                9  \n",
       "4                                                3  "
      ]
     },
     "execution_count": 8,
     "metadata": {},
     "output_type": "execute_result"
    }
   ],
   "source": [
    "aeroports.head()"
   ]
  },
  {
   "cell_type": "code",
   "execution_count": 9,
   "metadata": {},
   "outputs": [],
   "source": [
    "compagnies = pd.read_sql_query(\"SELECT * FROM compagnies\", conn_2)"
   ]
  },
  {
   "cell_type": "code",
   "execution_count": 10,
   "metadata": {},
   "outputs": [
    {
     "data": {
      "text/html": [
       "<div>\n",
       "<style scoped>\n",
       "    .dataframe tbody tr th:only-of-type {\n",
       "        vertical-align: middle;\n",
       "    }\n",
       "\n",
       "    .dataframe tbody tr th {\n",
       "        vertical-align: top;\n",
       "    }\n",
       "\n",
       "    .dataframe thead th {\n",
       "        text-align: right;\n",
       "    }\n",
       "</style>\n",
       "<table border=\"1\" class=\"dataframe\">\n",
       "  <thead>\n",
       "    <tr style=\"text-align: right;\">\n",
       "      <th></th>\n",
       "      <th>COMPAGNIE</th>\n",
       "      <th>CODE</th>\n",
       "      <th>NOMBRE D EMPLOYES</th>\n",
       "      <th>CHIFFRE D AFFAIRE</th>\n",
       "    </tr>\n",
       "  </thead>\n",
       "  <tbody>\n",
       "    <tr>\n",
       "      <th>0</th>\n",
       "      <td>Try Hard Airlines</td>\n",
       "      <td>THA</td>\n",
       "      <td>12909</td>\n",
       "      <td>2310000000</td>\n",
       "    </tr>\n",
       "    <tr>\n",
       "      <th>1</th>\n",
       "      <td>Corporate Overlord Airways</td>\n",
       "      <td>COA</td>\n",
       "      <td>130595</td>\n",
       "      <td>40579000000</td>\n",
       "    </tr>\n",
       "    <tr>\n",
       "      <th>2</th>\n",
       "      <td>Neverland Airlines</td>\n",
       "      <td>NA</td>\n",
       "      <td>18567</td>\n",
       "      <td>7651000000</td>\n",
       "    </tr>\n",
       "    <tr>\n",
       "      <th>3</th>\n",
       "      <td>Always A Problem Flights</td>\n",
       "      <td>AAPF</td>\n",
       "      <td>92000</td>\n",
       "      <td>51000000000</td>\n",
       "    </tr>\n",
       "    <tr>\n",
       "      <th>4</th>\n",
       "      <td>Overpriced Air</td>\n",
       "      <td>OA</td>\n",
       "      <td>12200</td>\n",
       "      <td>6649000000</td>\n",
       "    </tr>\n",
       "  </tbody>\n",
       "</table>\n",
       "</div>"
      ],
      "text/plain": [
       "                    COMPAGNIE  CODE  NOMBRE D EMPLOYES  CHIFFRE D AFFAIRE\n",
       "0           Try Hard Airlines   THA              12909         2310000000\n",
       "1  Corporate Overlord Airways   COA             130595        40579000000\n",
       "2          Neverland Airlines    NA              18567         7651000000\n",
       "3    Always A Problem Flights  AAPF              92000        51000000000\n",
       "4              Overpriced Air    OA              12200         6649000000"
      ]
     },
     "execution_count": 10,
     "metadata": {},
     "output_type": "execute_result"
    }
   ],
   "source": [
    "compagnies.head()"
   ]
  },
  {
   "cell_type": "code",
   "execution_count": 11,
   "metadata": {},
   "outputs": [],
   "source": [
    "fuel = pd.read_parquet('../data/raw/fuel.parquet')"
   ]
  },
  {
   "cell_type": "code",
   "execution_count": 12,
   "metadata": {},
   "outputs": [
    {
     "data": {
      "text/html": [
       "<div>\n",
       "<style scoped>\n",
       "    .dataframe tbody tr th:only-of-type {\n",
       "        vertical-align: middle;\n",
       "    }\n",
       "\n",
       "    .dataframe tbody tr th {\n",
       "        vertical-align: top;\n",
       "    }\n",
       "\n",
       "    .dataframe thead th {\n",
       "        text-align: right;\n",
       "    }\n",
       "</style>\n",
       "<table border=\"1\" class=\"dataframe\">\n",
       "  <thead>\n",
       "    <tr style=\"text-align: right;\">\n",
       "      <th></th>\n",
       "      <th>DATE</th>\n",
       "      <th>PRIX DU BARIL</th>\n",
       "    </tr>\n",
       "  </thead>\n",
       "  <tbody>\n",
       "    <tr>\n",
       "      <th>0</th>\n",
       "      <td>04/01/16</td>\n",
       "      <td>57.780</td>\n",
       "    </tr>\n",
       "    <tr>\n",
       "      <th>1</th>\n",
       "      <td>05/01/16</td>\n",
       "      <td>56.365</td>\n",
       "    </tr>\n",
       "    <tr>\n",
       "      <th>2</th>\n",
       "      <td>06/01/16</td>\n",
       "      <td>55.070</td>\n",
       "    </tr>\n",
       "    <tr>\n",
       "      <th>3</th>\n",
       "      <td>07/01/16</td>\n",
       "      <td>53.690</td>\n",
       "    </tr>\n",
       "    <tr>\n",
       "      <th>4</th>\n",
       "      <td>08/01/16</td>\n",
       "      <td>53.230</td>\n",
       "    </tr>\n",
       "  </tbody>\n",
       "</table>\n",
       "</div>"
      ],
      "text/plain": [
       "       DATE  PRIX DU BARIL\n",
       "0  04/01/16         57.780\n",
       "1  05/01/16         56.365\n",
       "2  06/01/16         55.070\n",
       "3  07/01/16         53.690\n",
       "4  08/01/16         53.230"
      ]
     },
     "execution_count": 12,
     "metadata": {},
     "output_type": "execute_result"
    }
   ],
   "source": [
    "fuel.head()"
   ]
  },
  {
   "cell_type": "markdown",
   "metadata": {},
   "source": [
    "## Prepare data for aggregation"
   ]
  },
  {
   "cell_type": "code",
   "execution_count": 18,
   "metadata": {},
   "outputs": [],
   "source": [
    "import sys\n",
    "sys.path.append('../src')"
   ]
  },
  {
   "cell_type": "code",
   "execution_count": 22,
   "metadata": {},
   "outputs": [],
   "source": [
    "from data_preparation import *\n",
    "from feature_engineering import *"
   ]
  },
  {
   "cell_type": "code",
   "execution_count": 23,
   "metadata": {},
   "outputs": [],
   "source": [
    "vols_new_col_names = rename_dataframe_columns(vols)\n",
    "compagnies_new_col_names = rename_dataframe_columns(compagnies, 'compagnies_')\n",
    "fuel_new_col_names = rename_dataframe_columns(fuel, 'fuel_')\n",
    "depart_aeroports = rename_dataframe_columns(aeroports, 'depart_')\n",
    "arrivee_aeroports = rename_dataframe_columns(aeroports, 'arrivee_')"
   ]
  },
  {
   "cell_type": "code",
   "execution_count": 25,
   "metadata": {},
   "outputs": [],
   "source": [
    "fuel_prepared = prepare_fuel_time_series(fuel_new_col_names)"
   ]
  },
  {
   "cell_type": "code",
   "execution_count": 26,
   "metadata": {},
   "outputs": [],
   "source": [
    "vols_new_col_names['date'] = pd.to_datetime(vols_new_col_names['date'], format='%d/%m/%Y')"
   ]
  },
  {
   "cell_type": "markdown",
   "metadata": {},
   "source": [
    "## Aggregate data"
   ]
  },
  {
   "cell_type": "code",
   "execution_count": null,
   "metadata": {},
   "outputs": [],
   "source": [
    "flights_with_airlines = merge_flights_with_airlines(vols_new_col_names, compagnies_new_col_names)"
   ]
  },
  {
   "cell_type": "code",
   "execution_count": null,
   "metadata": {},
   "outputs": [],
   "source": [
    "flights_with_departures = merge_flights_with_departures_airports(flights_with_airlines, depart_aeroports)"
   ]
  },
  {
   "cell_type": "code",
   "execution_count": null,
   "metadata": {},
   "outputs": [],
   "source": [
    "flights_with_arrivals = merge_flights_with_arrivals_airports(flights_with_departures, arrivee_aeroports)"
   ]
  },
  {
   "cell_type": "code",
   "execution_count": null,
   "metadata": {},
   "outputs": [],
   "source": [
    "flights_agg = merge_flights_with_fuel(flights_with_arrivals, fuel_prepared)"
   ]
  },
  {
   "cell_type": "code",
   "execution_count": null,
   "metadata": {},
   "outputs": [],
   "source": [
    "flights_agg.head()"
   ]
  },
  {
   "cell_type": "markdown",
   "metadata": {},
   "source": [
    "## Features engineering"
   ]
  },
  {
   "cell_type": "code",
   "execution_count": null,
   "metadata": {},
   "outputs": [],
   "source": [
    "POSSIBLE_LEAK_COLUMNS = ['heure_de_depart', 'retart_de_depart', 'temps_de_deplacement_a_terre_au_decollage', \n",
    "                         'decollage', 'temps_de_vol', 'temps_passe', 'atterrissage', \n",
    "                         \"temps_de_deplacement_a_terre_a_l'atterrissage\", \"heure_d'arrivee\",  \n",
    "                         'detournement', 'annulation', \"raison_d'annulation\", 'retard_system', 'retard_securite', \n",
    "                         'retard_compagnie', 'retard_avion', 'retard_avion', 'retard_meteo']\n",
    "\n",
    "DUPLICATED_DATA = ['compagnies_compagnie', 'depart_nom', 'arrivee_nom']\n",
    "\n",
    "OTHER_COLUMNS_TO_DROP = ['depart_prix_retard_premiere_20_minutes', \n",
    "                         'depart_pris_retard_pour_chaque_minute_apres_10_minutes',\n",
    "                         'arrivee_prix_retard_premiere_20_minutes',\n",
    "                         'arrivee_pris_retard_pour_chaque_minute_apres_10_minutes',\n",
    "                         'identifiant']\n",
    "\n",
    "COLUMNS_TO_DROP = POSSIBLE_LEAK_COLUMNS + DUPLICATED_DATA + OTHER_COLUMNS_TO_DROP"
   ]
  },
  {
   "cell_type": "code",
   "execution_count": null,
   "metadata": {},
   "outputs": [],
   "source": [
    "flights_removed_col = flights_agg.drop(columns=COLUMNS_TO_DROP)"
   ]
  },
  {
   "cell_type": "code",
   "execution_count": null,
   "metadata": {},
   "outputs": [],
   "source": [
    "from src.feature_engineering import create_columns_from_date, convert_latitude_longitude_to_float, \n",
    "create_hour_column_from_departure_time, "
   ]
  },
  {
   "cell_type": "code",
   "execution_count": null,
   "metadata": {},
   "outputs": [],
   "source": [
    "flights_new_col = create_columns_from_date(flights_removed_col)"
   ]
  },
  {
   "cell_type": "code",
   "execution_count": null,
   "metadata": {},
   "outputs": [],
   "source": [
    "flights_converted_lat = convert_latitude_longitude_to_float(flights_new_col)"
   ]
  },
  {
   "cell_type": "code",
   "execution_count": null,
   "metadata": {},
   "outputs": [],
   "source": [
    "flights_dep_hour = create_hour_column_from_departure_time(flights_converted_lat)"
   ]
  },
  {
   "cell_type": "code",
   "execution_count": null,
   "metadata": {},
   "outputs": [],
   "source": [
    "flights_dep_hour.head()"
   ]
  },
  {
   "cell_type": "markdown",
   "metadata": {},
   "source": [
    "### Deal with NaN data"
   ]
  },
  {
   "cell_type": "code",
   "execution_count": null,
   "metadata": {},
   "outputs": [],
   "source": [
    "flights_dep_hour.shape"
   ]
  },
  {
   "cell_type": "code",
   "execution_count": null,
   "metadata": {},
   "outputs": [],
   "source": [
    "flights_no_na = flights_dep_hour.dropna()"
   ]
  },
  {
   "cell_type": "code",
   "execution_count": null,
   "metadata": {},
   "outputs": [],
   "source": [
    "flights_no_na.shape"
   ]
  },
  {
   "cell_type": "markdown",
   "metadata": {},
   "source": [
    "## Model"
   ]
  },
  {
   "cell_type": "code",
   "execution_count": null,
   "metadata": {},
   "outputs": [],
   "source": [
    "from sklearn.model_selection import train_test_split\n",
    "from sklearn.preprocessing import LabelEncoder, OneHotEncoder\n",
    "from sklearn.ensemble import RandomForestClassifier\n",
    "from sklearn.linear_model import LogisticRegression\n",
    "from sklearn.metrics import accuracy_score\n",
    "import xgboost as xgb"
   ]
  },
  {
   "cell_type": "code",
   "execution_count": null,
   "metadata": {},
   "outputs": [],
   "source": [
    "CATEGORICAL_COLUMNS = ['code_avion', 'compagnies_code', 'depart_code_iata', 'depart_lieu', 'depart_pays', \n",
    "                       'arrivee_code_iata', 'arrivee_lieu', 'arrivee_pays']\n",
    "\n",
    "TARGET_COLUMN = \"retard_a_l'arrivee\""
   ]
  },
  {
   "cell_type": "code",
   "execution_count": null,
   "metadata": {},
   "outputs": [],
   "source": [
    "#data = flights_no_na.drop(columns=CATEGORICAL_COLUMNS)\n",
    "data = flights_no_na"
   ]
  },
  {
   "cell_type": "code",
   "execution_count": null,
   "metadata": {},
   "outputs": [],
   "source": [
    "X = data.drop(columns=[TARGET_COLUMN])\n",
    "y = data[TARGET_COLUMN].map(lambda x: 1 if x > 0  else 0)"
   ]
  },
  {
   "cell_type": "code",
   "execution_count": null,
   "metadata": {},
   "outputs": [],
   "source": [
    "for column in CATEGORICAL_COLUMNS:\n",
    "    le = LabelEncoder()\n",
    "    X[column] = le.fit_transform(X[column].values.reshape(-1,1))"
   ]
  },
  {
   "cell_type": "code",
   "execution_count": null,
   "metadata": {},
   "outputs": [],
   "source": [
    "X"
   ]
  },
  {
   "cell_type": "code",
   "execution_count": null,
   "metadata": {},
   "outputs": [],
   "source": [
    "X_train, X_test, y_train, y_test = train_test_split(X, y, test_size=0.33, random_state=42)"
   ]
  },
  {
   "cell_type": "code",
   "execution_count": null,
   "metadata": {},
   "outputs": [],
   "source": [
    "#model = RandomForestClassifier(n_estimators=10, max_depth=10, n_jobs=-1, verbose=2, random_state=42)\n",
    "#model.fit(X_train, y_train)\n",
    "gbm = xgb.XGBClassifier(max_depth=3, n_estimators=10, learning_rate=0.05, verbosity=3)\n",
    "gbm.fit(X_train, y_train)"
   ]
  },
  {
   "cell_type": "code",
   "execution_count": null,
   "metadata": {},
   "outputs": [],
   "source": [
    "accuracy_score(y_test, gbm.predict(X_test).round())"
   ]
  },
  {
   "cell_type": "code",
   "execution_count": null,
   "metadata": {},
   "outputs": [],
   "source": [
    "import matplotlib.pyplot as plt\n",
    "\n",
    "features=X.columns\n",
    "importances = model.feature_importances_\n",
    "indices = np.argsort(importances)\n",
    "\n",
    "plt.figure(1)\n",
    "plt.title('Feature Importances')\n",
    "plt.barh(range(len(indices)), importances[indices], color='b', align='center')\n",
    "plt.yticks(range(len(indices)), features[indices])\n",
    "plt.xlabel('Relative Importance')"
   ]
  },
  {
   "cell_type": "code",
   "execution_count": null,
   "metadata": {},
   "outputs": [],
   "source": []
  }
 ],
 "metadata": {
  "kernelspec": {
   "display_name": "Python 3",
   "language": "python",
   "name": "python3"
  },
  "language_info": {
   "codemirror_mode": {
    "name": "ipython",
    "version": 3
   },
   "file_extension": ".py",
   "mimetype": "text/x-python",
   "name": "python",
   "nbconvert_exporter": "python",
   "pygments_lexer": "ipython3",
   "version": "3.7.6"
  }
 },
 "nbformat": 4,
 "nbformat_minor": 2
}
